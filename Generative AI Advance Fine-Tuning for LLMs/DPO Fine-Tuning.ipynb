{
 "cells": [
  {
   "cell_type": "markdown",
   "id": "2de0d41d-1eae-480c-94c1-8502848519b5",
   "metadata": {},
   "source": [
    "# **Direct Preference Optimization (DPO) Using Hugging Face**\n"
   ]
  },
  {
   "cell_type": "markdown",
   "id": "e4d02ed1-d359-424a-969c-aa3a6abaa55e",
   "metadata": {},
   "source": [
    "### Installing required libraries\n"
   ]
  },
  {
   "cell_type": "code",
   "execution_count": null,
   "id": "526e16af-5b85-4f16-bba1-c97eff3feaa1",
   "metadata": {},
   "outputs": [],
   "source": [
    "!pip install torch==2.3.1\n",
    "!pip install --user trl==0.11.4 # for optimization training\n",
    "!pip install peft==0.14.0 # for creating LoRA architecture\n",
    "!pip install matplotlib==3.9.0 \n",
    "!pip install pandas\n",
    "!pip install numpy==1.26.0\n",
    "!pip install --user datasets==3.2.0"
   ]
  },
  {
   "cell_type": "code",
   "execution_count": null,
   "id": "e1b604d0-1e7f-42c0-90de-7fec7ecbbf87",
   "metadata": {},
   "outputs": [],
   "source": [
    "!pip install transformers==4.45.2"
   ]
  },
  {
   "cell_type": "code",
   "execution_count": null,
   "id": "ab8c6140-07c9-41e6-a951-e1c4d1faa627",
   "metadata": {},
   "outputs": [],
   "source": [
    "#!pip install --user trl==0.11.0 "
   ]
  },
  {
   "cell_type": "code",
   "execution_count": null,
   "id": "7e8499e9-7755-497d-8c11-22ca2364964f",
   "metadata": {},
   "outputs": [],
   "source": [
    "##imports\n",
    "import multiprocessing\n",
    "import os\n",
    "import requests\n",
    "import tarfile\n",
    "import pandas as pd\n",
    "import matplotlib.pyplot as plt\n",
    "\n",
    "import torch\n",
    "from datasets import load_dataset\n",
    "\n",
    "from peft import LoraConfig\n",
    "from transformers import AutoModelForCausalLM, AutoTokenizer,TrainingArguments, GPT2Tokenizer, set_seed, GenerationConfig\n",
    "from trl import DPOConfig, DPOTrainer\n"
   ]
  },
  {
   "cell_type": "markdown",
   "id": "a8e0ce5b-07cb-4839-b6ca-d77910210b23",
   "metadata": {},
   "source": [
    "## Create and configure the model and tokenizer\n"
   ]
  },
  {
   "cell_type": "code",
   "execution_count": null,
   "id": "21e349e7-4856-4ad5-8117-fbda95d31997",
   "metadata": {},
   "outputs": [],
   "source": [
    "\n",
    "# Load the GPT-2 model\n",
    "model = AutoModelForCausalLM.from_pretrained(\"gpt2\")\n",
    "\n",
    "# Load a reference model \n",
    "model_ref = AutoModelForCausalLM.from_pretrained(\"gpt2\")\n",
    "\n",
    "# Load the GPT-2 tokenizer\n",
    "tokenizer = GPT2Tokenizer.from_pretrained(\"gpt2\")\n",
    "\n",
    "# Set the pad token to the end-of-sequence token\n",
    "tokenizer.pad_token = tokenizer.eos_token\n",
    "# Set the padding side to \"right\" to fix the overflow issue with FP16 training\n",
    "tokenizer.padding_side = \"right\"\n",
    "\n",
    "# Disable the use of the cache during the model's forward pass\n",
    "model.config.use_cache = False"
   ]
  },
  {
   "cell_type": "markdown",
   "id": "09f12984-2bde-422e-b60c-d9fcadd4297c",
   "metadata": {},
   "source": [
    "Here, you can check the model architecture.\n"
   ]
  },
  {
   "cell_type": "code",
   "execution_count": null,
   "id": "d2d054e5-2d66-431a-9db7-3ea8623fd4a2",
   "metadata": {},
   "outputs": [],
   "source": [
    "model"
   ]
  },
  {
   "cell_type": "code",
   "execution_count": null,
   "id": "01b01eb4-e7b1-4ea1-89ad-d6fed409cc66",
   "metadata": {},
   "outputs": [],
   "source": [
    "#!pip install -U bitsandbytes # this package is required for quantization"
   ]
  },
  {
   "cell_type": "code",
   "execution_count": null,
   "id": "2a7547e9-9b38-49ff-93fc-3656152fb8c5",
   "metadata": {},
   "outputs": [],
   "source": [
    "'''## Quantized model --only available on GPU\n",
    "from transformers import BitsAndBytesConfig\n",
    "\n",
    "# Configure the quantization parameters\n",
    "quantization_config = BitsAndBytesConfig(\n",
    "    # Load the model in 4-bit quantized format\n",
    "    load_in_4bit=True,\n",
    "    # Enable double quantization for better accuracy\n",
    "    bnb_4bit_use_double_quant=True,\n",
    "    # Use non-uniform 4-bit quantization (nf4)\n",
    "    bnb_4bit_quant_type=\"nf4\",\n",
    "    # Use bfloat16 as the computation data type during quantization\n",
    "    bnb_4bit_compute_dtype=torch.bfloat16\n",
    ")\n",
    "\n",
    "# Load GPT-2 model with the specified quantization configuration\n",
    "model = AutoModelForCausalLM.from_pretrained(\"gpt2\", quantization_config=quantization_config)\n",
    "\n",
    "# Load a reference model with the same quantization configuration\n",
    "model_ref = AutoModelForCausalLM.from_pretrained(\"gpt2\", quantization_config=quantization_config)\n",
    "\n",
    "# Load GPT-2 tokenizer\n",
    "tokenizer = GPT2Tokenizer.from_pretrained(\"gpt2\")\n",
    "\n",
    "# Set the pad token to the end-of-sequence token\n",
    "tokenizer.pad_token = tokenizer.eos_token\n",
    "# Set the padding side to \"right\" to fix the overflow issue with FP16 training\n",
    "tokenizer.padding_side = \"right\"\n",
    "\n",
    "# Disable the use of the cache during the model's forward pass\n",
    "model.config.use_cache = False'''"
   ]
  },
  {
   "cell_type": "markdown",
   "id": "63173404-5327-4d92-a732-587b36912451",
   "metadata": {},
   "source": [
    "## Preprocess data set\n",
    "\n",
    "The \"ultrafeedback_binarized\" data set on Hugging Face is a collection of prompts and responses.  \n"
   ]
  },
  {
   "cell_type": "code",
   "execution_count": null,
   "id": "a110c5da-a9d7-413f-9c10-0f5a8e1d9144",
   "metadata": {},
   "outputs": [],
   "source": [
    "# Load the dataset from the specified location\n",
    "ds = load_dataset(\"BarraHome/ultrafeedback_binarized\")"
   ]
  },
  {
   "cell_type": "markdown",
   "id": "c8165182-0b50-415b-8aaa-748f0f5402ba",
   "metadata": {},
   "source": [
    "This data set includes six splits. \n"
   ]
  },
  {
   "cell_type": "code",
   "execution_count": null,
   "id": "dfeec910-4c03-42ba-981d-83122f30986a",
   "metadata": {},
   "outputs": [],
   "source": [
    "ds.keys()"
   ]
  },
  {
   "cell_type": "markdown",
   "id": "f99b4ceb-db66-4c03-85d6-d4848d8659b8",
   "metadata": {},
   "source": [
    "Each record has different features among which you need to select from the three features, that is \"chosen,\" \"rejected,\" and \"prompt.\" This means that for each prompt, a prefered response and a rejected response are provided.\n"
   ]
  },
  {
   "cell_type": "code",
   "execution_count": null,
   "id": "2ad49e1c-fd6a-4e2f-9e1e-4bdc2e80f130",
   "metadata": {},
   "outputs": [],
   "source": [
    "ds[\"train_prefs\"][0].keys()"
   ]
  },
  {
   "cell_type": "code",
   "execution_count": null,
   "id": "4ef6b2b1-a805-4d3b-b2de-c50b6b2d7b83",
   "metadata": {},
   "outputs": [],
   "source": [
    "ds[\"train_prefs\"][0]"
   ]
  },
  {
   "cell_type": "markdown",
   "id": "f93bea77-9db4-407c-b57c-5b8c8990e0db",
   "metadata": {},
   "source": [
    "Now, put the data set in the format that the DPO trainer accepts.\n",
    "\n",
    "| Chosen | Rejected | Prompt |\n",
    "| --- | --- | --- |\n",
    " | Developing a daily habit of drawing can be challenging <br>but with consistent practice, and a few tips. | One way to develop a habit of drawing daily is <br>to allocate a specific time interval for drawing. | How can I develop a habit of drawing daily?|\n"
   ]
  },
  {
   "cell_type": "code",
   "execution_count": null,
   "id": "f5c90036-db56-432a-b9d1-fbbccf20aa4a",
   "metadata": {},
   "outputs": [],
   "source": [
    "# You can reduce the volume of data (due to resource limitations) by selecting the first 5% examples from each split of the dataset\n",
    "for key in ds:\n",
    "    #cnt = round(ds[key].__len__()*0.05)\n",
    "    cnt=50\n",
    "    ds[key] = ds[key].select(range(cnt))\n",
    "\n",
    "# Define a function to process the data\n",
    "def process(row):\n",
    "    # delete unwanted columns\n",
    "    del row[\"prompt_id\"]\n",
    "    del row[\"messages\"]\n",
    "    del row[\"score_chosen\"]\n",
    "    del row[\"score_rejected\"]\n",
    "    # retrieve the actual response text\n",
    "    row[\"chosen\"] = row[\"chosen\"][-1][\"content\"]\n",
    "    row[\"rejected\"] = row[\"rejected\"][-1][\"content\"]\n",
    "\n",
    "    return row\n",
    "\n",
    "# Apply the data processing function to the dataset\n",
    "ds = ds.map(\n",
    "    process,\n",
    "    num_proc=multiprocessing.cpu_count(),\n",
    "    load_from_cache_file=False,\n",
    ")\n",
    "\n",
    "# Split the dataset into training and evaluation sets\n",
    "train_dataset = ds['train_prefs']\n",
    "eval_dataset = ds['test_prefs']\n",
    "\n"
   ]
  },
  {
   "cell_type": "code",
   "execution_count": null,
   "id": "4172ad81-92ab-4699-b6d4-bd601ee7ede8",
   "metadata": {},
   "outputs": [],
   "source": [
    "train_dataset[0]"
   ]
  },
  {
   "cell_type": "markdown",
   "id": "410df653-d933-46e9-8e0e-499f5e6b82bd",
   "metadata": {},
   "source": [
    "Next, define LoRAConfig for efficient fine-tuning.\n"
   ]
  },
  {
   "cell_type": "code",
   "execution_count": null,
   "id": "9a92494b-1e8c-4d8e-b357-ce1d6fd0213e",
   "metadata": {},
   "outputs": [],
   "source": [
    "# PEFT (Parameter-Efficient Finetuning) configuration\n",
    "peft_config = LoraConfig(\n",
    "        # The rank of the low-rank adaptation weights\n",
    "        r=4,\n",
    "        # The target modules to apply the low-rank adaptation to\n",
    "        target_modules=['c_proj','c_attn'],\n",
    "        # The task type for the low-rank adaptation\n",
    "        task_type=\"CAUSAL_LM\",\n",
    "        # The scaling factor for the low-rank adaptation weights\n",
    "        lora_alpha=8,\n",
    "        # The dropout probability for the low-rank adaptation weights\n",
    "        lora_dropout=0.1,\n",
    "        # The bias mode for the low-rank adaptation\n",
    "        bias=\"none\",\n",
    ")"
   ]
  },
  {
   "cell_type": "markdown",
   "id": "5968cd9e-0160-4691-8586-3320a56e1f41",
   "metadata": {},
   "source": [
    "### DPO configuration\n",
    "\n",
    "First, define training arguments.\n"
   ]
  },
  {
   "cell_type": "code",
   "execution_count": null,
   "id": "8c054ee8-4656-42f2-bd5c-56da25871eca",
   "metadata": {},
   "outputs": [],
   "source": [
    "# DPO configuration\n",
    "from peft import get_peft_model\n",
    "training_args = DPOConfig(\n",
    "    # The beta parameter for the DPO loss function\n",
    "    #beta is the temperature parameter for the DPO loss, typically something in the range of 0.1 to 0.5 . \n",
    "    beta=0.1,\n",
    "    # The output directory for the training\n",
    "    output_dir=\"dpo\",\n",
    "    # The number of training epochs\n",
    "    num_train_epochs=5,\n",
    "    # The batch size per device during training\n",
    "    per_device_train_batch_size=1,\n",
    "    # The batch size per device during evaluation\n",
    "    per_device_eval_batch_size=1,\n",
    "    # Whether to remove unused columns from the dataset\n",
    "    remove_unused_columns=False,\n",
    "    # The number of steps between logging training progress\n",
    "    logging_steps=10,\n",
    "    # The number of gradient accumulation steps\n",
    "    gradient_accumulation_steps=1,\n",
    "    # The learning rate for the optimization\n",
    "    learning_rate=1e-4,\n",
    "    # The evaluation strategy (e.g., after each step or epoch)\n",
    "    evaluation_strategy=\"epoch\",\n",
    "    # The number of warmup steps for the learning rate scheduler\n",
    "    warmup_steps=2,\n",
    "    # Whether to use 16-bit (float16) precision\n",
    "    fp16=False,\n",
    "    # The number of steps between saving checkpoints\n",
    "    save_steps=500,\n",
    "    # The maximum number of checkpoints to keep\n",
    "    #save_total_limit=2,\n",
    "    # The reporting backend to use (set to 'none' to disable, you can also report to wandb or tensorboard)\n",
    "    report_to='none'\n",
    ")"
   ]
  },
  {
   "cell_type": "markdown",
   "id": "77edf717-f35a-46cf-b9ae-69cd1fa1ef8c",
   "metadata": {},
   "source": [
    "### DPO training\n",
    "\n",
    "Next step is creating the actual trainer using DPOTrainer class.\n"
   ]
  },
  {
   "cell_type": "code",
   "execution_count": null,
   "id": "334f52f1-00e5-4c16-bcb5-bc0a91c6f3dd",
   "metadata": {},
   "outputs": [],
   "source": [
    "tokenizer.pad_token = tokenizer.eos_token\n",
    "\n",
    "# Create a DPO trainer\n",
    "# This trainer will handle the fine-tuning of the model using the DPO technique\n",
    "trainer = DPOTrainer(\n",
    "        # The model to be fine-tuned\n",
    "        model=model,\n",
    "        # The reference model (not used in this case because LoRA has been used)\n",
    "        ref_model=None,\n",
    "        # The DPO training configuration\n",
    "        args=training_args,\n",
    "        # The beta parameter for the DPO loss function\n",
    "       \n",
    "        # The training dataset\n",
    "        train_dataset=train_dataset,\n",
    "        # The evaluation dataset\n",
    "        eval_dataset=eval_dataset,\n",
    "        # The tokenizer for the model\n",
    "        tokenizer=tokenizer,\n",
    "        # The PEFT (Parallel Efficient Finetuning) configuration\n",
    "        peft_config=peft_config,\n",
    "        # The maximum prompt length\n",
    "        #max_prompt_length=512,\n",
    "        # The maximum sequence length\n",
    "        max_length=512,\n",
    "    )\n"
   ]
  },
  {
   "cell_type": "markdown",
   "id": "4b2658b6-ed1e-41d7-952b-87f23569c406",
   "metadata": {},
   "source": [
    "#### Training model\n"
   ]
  },
  {
   "cell_type": "code",
   "execution_count": null,
   "id": "9088c26f-dee1-4e46-9aac-304d11409c63",
   "metadata": {},
   "outputs": [],
   "source": [
    "# Start the training process\n",
    "trainer.train()"
   ]
  },
  {
   "cell_type": "code",
   "execution_count": null,
   "id": "fb5d512c-d0f7-4411-b441-ec1a61868de5",
   "metadata": {},
   "outputs": [],
   "source": [
    "!python --v"
   ]
  },
  {
   "cell_type": "code",
   "execution_count": null,
   "id": "45903f0b-58bb-43a1-8403-685f70f47fb0",
   "metadata": {},
   "outputs": [],
   "source": [
    "print(hasattr(model, \"generate\"))"
   ]
  },
  {
   "cell_type": "code",
   "execution_count": null,
   "id": "97d1dc9f-705f-446b-92f1-d40b360749a4",
   "metadata": {},
   "outputs": [],
   "source": [
    "# Retrieve log_history and save it to a dataframe\n",
    "log = pd.DataFrame(trainer.state.log_history)\n",
    "log_t = log[log['loss'].notna()]\n",
    "log_e = log[log['eval_loss'].notna()]\n",
    "\n",
    "# Plot train and evaluation losses\n",
    "plt.plot(log_t[\"epoch\"], log_t[\"loss\"], label = \"train_loss\") \n",
    "plt.plot(log_e[\"epoch\"], log_e[\"eval_loss\"], label = \"eval_loss\") \n",
    "plt.legend() \n",
    "plt.show()"
   ]
  },
  {
   "cell_type": "markdown",
   "id": "305d3e78-d5e1-4c61-9a63-bf923591fb7c",
   "metadata": {},
   "source": [
    "![image](https://cf-courses-data.s3.us.cloud-object-storage.appdomain.cloud/7KEnvtpUyNcJTINdArLf7A/loss%20dpo.png)\n"
   ]
  },
  {
   "cell_type": "code",
   "execution_count": null,
   "id": "c05a7bef-4cb6-4372-8d85-41a57086cc88",
   "metadata": {},
   "outputs": [],
   "source": [
    "# Load the trained DPO model you just trained\n",
    "dpo_model = AutoModelForCausalLM.from_pretrained('./dpo/checkpoint-250')\n"
   ]
  },
  {
   "cell_type": "markdown",
   "id": "9a7f533d-e4fc-45bb-a142-ba2af70eec57",
   "metadata": {},
   "source": [
    "#### Loading trained model\n"
   ]
  },
  {
   "cell_type": "code",
   "execution_count": null,
   "id": "aa9098a6-c6f6-4bb4-b36e-06b9ce212b7b",
   "metadata": {},
   "outputs": [],
   "source": [
    "# Define the URL and the filename\n",
    "url = 'https://cf-courses-data.s3.us.cloud-object-storage.appdomain.cloud/YIDeT3qihEpWChdXN_RmTg/DPO-tar.gz'\n",
    "filename = './DPO.tar'\n",
    "\n",
    "# Download the file\n",
    "response = requests.get(url)\n",
    "\n",
    "# Save the file locally\n",
    "with open(filename, 'wb') as f:\n",
    "    f.write(response.content)\n",
    "\n",
    "# Extract the tar file\n",
    "if tarfile.is_tarfile(filename):\n",
    "    with tarfile.open(filename, 'r') as tar:\n",
    "        tar.extractall()\n",
    "        print(\"Files extracted:\", tar.getnames())\n",
    "else:\n",
    "    print(\"The adownloaded file is not a tar file.\")"
   ]
  },
  {
   "cell_type": "markdown",
   "id": "2705899e-e01d-43b8-991f-4fbce9fb700e",
   "metadata": {},
   "source": [
    "Then, load it into the model for further inference:\n"
   ]
  },
  {
   "cell_type": "code",
   "execution_count": null,
   "id": "7ecea602-72c7-4071-88a4-76bddbe47ee4",
   "metadata": {},
   "outputs": [],
   "source": [
    "# Load the trained DPO model tiy just trained\n",
    "dpo_model = AutoModelForCausalLM.from_pretrained('./DPO')\n"
   ]
  },
  {
   "cell_type": "markdown",
   "id": "72e5ec7e-1ae5-48a9-9e63-b1180b0e042b",
   "metadata": {},
   "source": [
    "### Generation\n"
   ]
  },
  {
   "cell_type": "code",
   "execution_count": null,
   "id": "d993736f-e8c7-44ba-9b83-f3feaa7996f5",
   "metadata": {},
   "outputs": [],
   "source": [
    "# Load the GPT-2 tokenizer\n",
    "tokenizer = GPT2Tokenizer.from_pretrained('gpt2')"
   ]
  },
  {
   "cell_type": "code",
   "execution_count": null,
   "id": "4e92681c-7ea8-4103-937d-6cf8e45448b5",
   "metadata": {},
   "outputs": [],
   "source": [
    "# Set a seed for reproducibility\n",
    "set_seed(42)\n",
    "\n",
    "\n",
    "# Define the generation configuration for the DPO model\n",
    "# This sets the parameters for text generation\n",
    "generation_config = GenerationConfig(\n",
    "        # Use sampling to generate diverse text\n",
    "        do_sample=True,\n",
    "        # Top-k sampling parameter\n",
    "        top_k=1,\n",
    "        # Temperature parameter to control the randomness of the generated text\n",
    "        temperature=0.1,\n",
    "        # Maximum number of new tokens to generate\n",
    "        max_new_tokens=25,\n",
    "        # Use the end-of-sequence token as the padding token\n",
    "        pad_token_id=tokenizer.eos_token_id\n",
    "    )\n",
    "\n",
    "# Define the input prompt for text generation\n",
    "PROMPT = \"Is a higher octane gasoline better for your car?\"\n",
    "# Encode the prompt using the tokenizer\n",
    "inputs = tokenizer(PROMPT, return_tensors='pt')\n",
    "\n",
    "# Generate text using the DPO model\n",
    "outputs = dpo_model.generate(**inputs, generation_config=generation_config)\n",
    "# Decode the generated text and print it\n",
    "print(\"DPO response:\\t\",tokenizer.decode(outputs[0], skip_special_tokens=True))\n",
    "\n",
    "# Load the pre-trained GPT-2 model\n",
    "gpt2_model = AutoModelForCausalLM.from_pretrained('gpt2')\n",
    "# Generate text using the GPT-2 model\n",
    "outputs = gpt2_model.generate(**inputs, generation_config=generation_config)\n",
    "# Decode the generated text and print it\n",
    "print(\"\\nGPT2 response:\\t\",tokenizer.decode(outputs[0], skip_special_tokens=True))"
   ]
  },
  {
   "cell_type": "markdown",
   "id": "89d8ae0c-3f3e-4b7b-8032-d62068af0852",
   "metadata": {},
   "source": [
    "##### Load the data set from the `argilla/ultrafeedback-binarized-preferences-cleaned`\n"
   ]
  },
  {
   "cell_type": "code",
   "execution_count": null,
   "id": "e3633e96-5cec-4615-aabf-a3ad76ca9261",
   "metadata": {},
   "outputs": [],
   "source": [
    "#TODO\n",
    "dataset = load_dataset(\"argilla/ultrafeedback-binarized-preferences-cleaned\")"
   ]
  },
  {
   "cell_type": "code",
   "execution_count": null,
   "id": "aa8504d0-f2d7-452f-a3f5-ea2ea953c73a",
   "metadata": {},
   "outputs": [],
   "source": [
    "dataset['train']"
   ]
  },
  {
   "cell_type": "markdown",
   "id": "3a1b6964-32f8-4630-8e34-f47c94ef00fc",
   "metadata": {},
   "source": [
    "##### Set the variable cnt to 50 and then select the first 50 (cnt) examples to reduce the volume of data for resource limitations.\n"
   ]
  },
  {
   "cell_type": "code",
   "execution_count": null,
   "id": "21a43e02-885f-4a33-9bcb-447aa89b744c",
   "metadata": {},
   "outputs": [],
   "source": [
    "#TODO\n",
    "cnt = 50  # You can adjust this count based on your requirements\n",
    "\n",
    "# Select the first 5% of examples\n",
    "dataset['train'] = dataset['train'].select(range(cnt))"
   ]
  },
  {
   "cell_type": "markdown",
   "id": "e4d709f7-567a-4814-b935-5096fcbefaa8",
   "metadata": {},
   "source": [
    "##### Create a function named `process` that takes a row of data as input. Within this function, remove unwanted columns such as `source, chosen-rating, chosen-model, rejected-rating, and rejected-model`. Then, use the map function to apply the process function to each row in the training data set.\n"
   ]
  },
  {
   "cell_type": "code",
   "execution_count": null,
   "id": "89cc661b-96be-4981-ab73-82ed82954f7c",
   "metadata": {},
   "outputs": [],
   "source": [
    "#TODO\n",
    "\n",
    "def process(row):\n",
    "    # Delete unwanted columns\n",
    "    del row[\"source\"]\n",
    "    del row[\"chosen-rating\"]\n",
    "    del row[\"chosen-model\"]\n",
    "    del row[\"rejected-rating\"]\n",
    "    del row[\"rejected-model\"]\n",
    "    \n",
    "    # Retrieve the actual response text\n",
    "    row[\"chosen\"] = row[\"chosen\"][-1][\"content\"]\n",
    "    row[\"rejected\"] = row[\"rejected\"][-1][\"content\"]\n",
    "    \n",
    "    return row\n",
    "\n",
    "# Apply the data processing function to the dataset\n",
    "dataset['train'] = dataset['train'].map(\n",
    "    process,\n",
    "    num_proc=multiprocessing.cpu_count(),\n",
    "    load_from_cache_file=False,\n",
    ")"
   ]
  },
  {
   "cell_type": "markdown",
   "id": "355f45b7-1f8d-4407-b55a-ccaf1daece32",
   "metadata": {},
   "source": [
    "##### Split the data set into training and evaluation sets:\n",
    "Calculate the size for the training set as 80% of the total data. The remaining 20% will be used for evaluation.\n"
   ]
  },
  {
   "cell_type": "code",
   "execution_count": null,
   "id": "e4944774-2959-49dd-9e9b-82dc3f9e1aaf",
   "metadata": {},
   "outputs": [],
   "source": [
    "#TODO\n",
    "train_size = int(0.8 * len(dataset['train']))  # 80% for training\n",
    "eval_size = len(dataset['train']) - train_size  # Remaining 20% for evaluation\n",
    "\n",
    "train_dataset = dataset['train'].select(range(train_size))\n",
    "eval_dataset = dataset['train'].select(range(train_size, train_size + eval_size))"
   ]
  },
  {
   "cell_type": "code",
   "execution_count": null,
   "id": "14688e0f-a1fb-4975-bba1-85e781e37174",
   "metadata": {},
   "outputs": [],
   "source": [
    "train_dataset"
   ]
  },
  {
   "cell_type": "code",
   "execution_count": null,
   "id": "cd5d2fb5-4bad-413f-aa31-3627fce17cf5",
   "metadata": {},
   "outputs": [],
   "source": [
    "train_dataset[0]"
   ]
  },
  {
   "cell_type": "code",
   "execution_count": null,
   "id": "c09dd8ef-e398-4a68-8db7-183bf34410dc",
   "metadata": {},
   "outputs": [],
   "source": [
    "PROMPT = input()"
   ]
  },
  {
   "cell_type": "markdown",
   "id": "271077f1-fe25-4ba5-8b86-9ba6691b5297",
   "metadata": {},
   "source": [
    "##### Initialize the GPT-2 Tokenizer\n"
   ]
  },
  {
   "cell_type": "code",
   "execution_count": null,
   "id": "c5f3d7db-abb1-49aa-bd2e-36da823c7d34",
   "metadata": {},
   "outputs": [],
   "source": [
    "#TODO\n",
    "tokenizer = GPT2Tokenizer.from_pretrained('gpt2')"
   ]
  },
  {
   "cell_type": "markdown",
   "id": "9a06c491-5156-4175-be18-24747591285b",
   "metadata": {},
   "source": [
    "##### Create a generation_config object to set the parameters for text generation.\n",
    "- do_sample=True    (It enables sampling, which allows for more diverse outputs.)\n",
    "- top_k=1 (It specifies the number of highest probability vocabulary tokens to consider during generation.)\n",
    "- temperature=0.1 (It controls the randomness of the output.)\n",
    "- max_new_tokens=25 (It sets the maximum number of new tokens to generate during inference.)\n",
    "- pad_token_id=tokenizer.eos_token_id (It specifies the token to use for padding.)\n"
   ]
  },
  {
   "cell_type": "code",
   "execution_count": null,
   "id": "010b2e4c-8bce-4043-b9b2-7d424f611fd4",
   "metadata": {},
   "outputs": [],
   "source": [
    "#TODO\n",
    "generation_config = GenerationConfig(\n",
    "    # Use sampling to generate diverse text\n",
    "    do_sample=True,\n",
    "    # Top-k sampling parameter: controls the number of highest probability tokens to consider\n",
    "    top_k=1,\n",
    "    # Temperature parameter: controls the randomness of the generated text\n",
    "    temperature=0.1,\n",
    "    # Maximum number of new tokens to generate\n",
    "    max_new_tokens=25,\n",
    "    # Use the end-of-sequence token as the padding token\n",
    "    pad_token_id=tokenizer.eos_token_id\n",
    ")"
   ]
  },
  {
   "cell_type": "markdown",
   "id": "b5996e22-2155-4536-8636-5389099c390e",
   "metadata": {},
   "source": [
    "##### Create a function named `generate_dpo_response` that takes a prompt as input and generates a response using the DPO model (`dpo_model`).\n"
   ]
  },
  {
   "cell_type": "code",
   "execution_count": null,
   "id": "d79f711e-285b-4c46-8482-727f6ff17122",
   "metadata": {},
   "outputs": [],
   "source": [
    "#TODO\n",
    "def generate_dpo_response(prompt):\n",
    "    # Tokenize the prompt\n",
    "    inputs = tokenizer(prompt, return_tensors='pt')\n",
    "\n",
    "    # Generate text using the DPO model\n",
    "    outputs = dpo_model.generate(**inputs, generation_config=generation_config)\n",
    "    \n",
    "    # Decode and return the response\n",
    "    return tokenizer.decode(outputs[0], skip_special_tokens=True)"
   ]
  },
  {
   "cell_type": "markdown",
   "id": "74f175ee-2444-442c-99b0-1c4c7d6ad2a7",
   "metadata": {},
   "source": [
    "##### Create another function named `generate_gpt2_response` that takes a prompt as input and generates a response using the GPT-2 model (`gpt2_model`).\n"
   ]
  },
  {
   "cell_type": "code",
   "execution_count": null,
   "id": "b9c9be62-dcb6-4895-8288-9dbc734d0cf0",
   "metadata": {},
   "outputs": [],
   "source": [
    "#TODO\n",
    "def generate_gpt2_response(prompt):\n",
    "    # Tokenize the prompt\n",
    "    inputs = tokenizer(prompt, return_tensors='pt')\n",
    "\n",
    "    # Generate text using the GPT-2 model\n",
    "    outputs = gpt2_model.generate(**inputs, generation_config=generation_config)\n",
    "    \n",
    "    # Decode and return the response\n",
    "    return tokenizer.decode(outputs[0], skip_special_tokens=True)"
   ]
  },
  {
   "cell_type": "markdown",
   "id": "2da6ebe2-bd85-4045-bf56-76c1fb224cb1",
   "metadata": {},
   "source": [
    "##### Call both functions with a prompt and compare the responses.\n"
   ]
  },
  {
   "cell_type": "code",
   "execution_count": null,
   "id": "ce44750b-86f3-46de-a005-d211dc6b6b1e",
   "metadata": {},
   "outputs": [],
   "source": [
    "#TODO\n",
    "dpo_response = generate_dpo_response(PROMPT)\n",
    "gpt2_response = generate_gpt2_response(PROMPT)\n",
    "\n",
    "# Print the responses\n",
    "print(\"DPO response:\\t\", dpo_response)\n",
    "print(\"\\nGPT-2 response:\\t\", gpt2_response)"
   ]
  }
 ],
 "metadata": {
  "kernelspec": {
   "display_name": "Python 3 (ipykernel)",
   "language": "python",
   "name": "python3"
  },
  "language_info": {
   "codemirror_mode": {
    "name": "ipython",
    "version": 3
   },
   "file_extension": ".py",
   "mimetype": "text/x-python",
   "name": "python",
   "nbconvert_exporter": "python",
   "pygments_lexer": "ipython3",
   "version": "3.12.8"
  },
  "prev_pub_hash": "1423db1b9601de50ab6ef871a2b0ccf668561a79fd2c376658de979b10985706"
 },
 "nbformat": 4,
 "nbformat_minor": 4
}
